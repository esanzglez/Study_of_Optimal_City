{
 "cells": [
  {
   "cell_type": "markdown",
   "metadata": {},
   "source": [
    "### Study of Optimal City"
   ]
  },
  {
   "cell_type": "code",
   "execution_count": 1,
   "metadata": {
    "collapsed": true
   },
   "outputs": [],
   "source": [
    "__author__='Enrique Sanz Gonzalez'"
   ]
  },
  {
   "cell_type": "code",
   "execution_count": 2,
   "metadata": {
    "collapsed": false
   },
   "outputs": [],
   "source": [
    "import pandas as pd\n",
    "import numpy as np\n",
    "import statsmodels.formula.api as smf\n",
    "from scipy import stats\n",
    "import matplotlib.pylab as plt\n",
    "#import seaborn\n",
    "%matplotlib inline"
   ]
  },
  {
   "cell_type": "code",
   "execution_count": 3,
   "metadata": {
    "collapsed": false
   },
   "outputs": [],
   "source": [
    "MSA = pd.read_excel('data/Data.xls', header = 0)"
   ]
  },
  {
   "cell_type": "code",
   "execution_count": 4,
   "metadata": {
    "collapsed": false
   },
   "outputs": [
    {
     "data": {
      "text/html": [
       "<div>\n",
       "<table border=\"1\" class=\"dataframe\">\n",
       "  <thead>\n",
       "    <tr style=\"text-align: right;\">\n",
       "      <th></th>\n",
       "      <th>State</th>\n",
       "      <th>County</th>\n",
       "      <th>Pop 2000</th>\n",
       "      <th>Total</th>\n",
       "      <th>Unnamed: 4</th>\n",
       "      <th>Commercial</th>\n",
       "      <th>Industrial</th>\n",
       "      <th>Residential</th>\n",
       "      <th>Electricity Prod</th>\n",
       "      <th>Onroad</th>\n",
       "      <th>Cement</th>\n",
       "      <th>Aircraft</th>\n",
       "      <th>Unknown</th>\n",
       "      <th>Nonroad</th>\n",
       "      <th>Transport</th>\n",
       "      <th>Total area sq miles</th>\n",
       "      <th>Density per square mile of land area</th>\n",
       "    </tr>\n",
       "  </thead>\n",
       "  <tbody>\n",
       "    <tr>\n",
       "      <th>0</th>\n",
       "      <td>AL</td>\n",
       "      <td>Autauga County</td>\n",
       "      <td>43671</td>\n",
       "      <td>0.256167</td>\n",
       "      <td>NaN</td>\n",
       "      <td>0.068712</td>\n",
       "      <td>0.101527</td>\n",
       "      <td>0.232385</td>\n",
       "      <td>3.560907</td>\n",
       "      <td>1.711907</td>\n",
       "      <td>0.0</td>\n",
       "      <td>0.022345</td>\n",
       "      <td>0.056167</td>\n",
       "      <td>0.111879</td>\n",
       "      <td>1.902298</td>\n",
       "      <td>604.45</td>\n",
       "      <td>73.3</td>\n",
       "    </tr>\n",
       "    <tr>\n",
       "      <th>1</th>\n",
       "      <td>AL</td>\n",
       "      <td>Baldwin County</td>\n",
       "      <td>140415</td>\n",
       "      <td>0.450031</td>\n",
       "      <td>NaN</td>\n",
       "      <td>0.109306</td>\n",
       "      <td>0.084633</td>\n",
       "      <td>0.227529</td>\n",
       "      <td>0.000000</td>\n",
       "      <td>1.984894</td>\n",
       "      <td>0.0</td>\n",
       "      <td>0.127067</td>\n",
       "      <td>0.319406</td>\n",
       "      <td>0.352174</td>\n",
       "      <td>2.783541</td>\n",
       "      <td>2026.93</td>\n",
       "      <td>88.0</td>\n",
       "    </tr>\n",
       "    <tr>\n",
       "      <th>2</th>\n",
       "      <td>AL</td>\n",
       "      <td>Barbour County</td>\n",
       "      <td>29038</td>\n",
       "      <td>0.099370</td>\n",
       "      <td>NaN</td>\n",
       "      <td>0.065589</td>\n",
       "      <td>0.294630</td>\n",
       "      <td>0.216390</td>\n",
       "      <td>0.000000</td>\n",
       "      <td>1.967854</td>\n",
       "      <td>0.0</td>\n",
       "      <td>0.188338</td>\n",
       "      <td>0.473422</td>\n",
       "      <td>0.215856</td>\n",
       "      <td>2.845471</td>\n",
       "      <td>904.52</td>\n",
       "      <td>32.8</td>\n",
       "    </tr>\n",
       "    <tr>\n",
       "      <th>3</th>\n",
       "      <td>AL</td>\n",
       "      <td>Bibb County</td>\n",
       "      <td>20826</td>\n",
       "      <td>0.045945</td>\n",
       "      <td>NaN</td>\n",
       "      <td>0.036914</td>\n",
       "      <td>0.077886</td>\n",
       "      <td>0.221569</td>\n",
       "      <td>0.000000</td>\n",
       "      <td>1.716397</td>\n",
       "      <td>0.0</td>\n",
       "      <td>0.018259</td>\n",
       "      <td>0.045897</td>\n",
       "      <td>0.089217</td>\n",
       "      <td>1.869771</td>\n",
       "      <td>626.16</td>\n",
       "      <td>33.4</td>\n",
       "    </tr>\n",
       "    <tr>\n",
       "      <th>4</th>\n",
       "      <td>AL</td>\n",
       "      <td>Blount County</td>\n",
       "      <td>51024</td>\n",
       "      <td>0.114776</td>\n",
       "      <td>NaN</td>\n",
       "      <td>0.038245</td>\n",
       "      <td>0.177553</td>\n",
       "      <td>0.218762</td>\n",
       "      <td>0.000000</td>\n",
       "      <td>1.712934</td>\n",
       "      <td>0.0</td>\n",
       "      <td>0.005841</td>\n",
       "      <td>0.014682</td>\n",
       "      <td>0.081440</td>\n",
       "      <td>1.814896</td>\n",
       "      <td>650.60</td>\n",
       "      <td>79.0</td>\n",
       "    </tr>\n",
       "  </tbody>\n",
       "</table>\n",
       "</div>"
      ],
      "text/plain": [
       "  State          County  Pop 2000     Total  Unnamed: 4  Commercial  \\\n",
       "0    AL  Autauga County     43671  0.256167         NaN    0.068712   \n",
       "1    AL  Baldwin County    140415  0.450031         NaN    0.109306   \n",
       "2    AL  Barbour County     29038  0.099370         NaN    0.065589   \n",
       "3    AL     Bibb County     20826  0.045945         NaN    0.036914   \n",
       "4    AL   Blount County     51024  0.114776         NaN    0.038245   \n",
       "\n",
       "   Industrial  Residential  Electricity Prod    Onroad  Cement  Aircraft  \\\n",
       "0    0.101527     0.232385          3.560907  1.711907     0.0  0.022345   \n",
       "1    0.084633     0.227529          0.000000  1.984894     0.0  0.127067   \n",
       "2    0.294630     0.216390          0.000000  1.967854     0.0  0.188338   \n",
       "3    0.077886     0.221569          0.000000  1.716397     0.0  0.018259   \n",
       "4    0.177553     0.218762          0.000000  1.712934     0.0  0.005841   \n",
       "\n",
       "    Unknown   Nonroad  Transport  Total area sq miles  \\\n",
       "0  0.056167  0.111879   1.902298               604.45   \n",
       "1  0.319406  0.352174   2.783541              2026.93   \n",
       "2  0.473422  0.215856   2.845471               904.52   \n",
       "3  0.045897  0.089217   1.869771               626.16   \n",
       "4  0.014682  0.081440   1.814896               650.60   \n",
       "\n",
       "   Density per square mile of land area  \n",
       "0                                  73.3  \n",
       "1                                  88.0  \n",
       "2                                  32.8  \n",
       "3                                  33.4  \n",
       "4                                  79.0  "
      ]
     },
     "execution_count": 4,
     "metadata": {},
     "output_type": "execute_result"
    }
   ],
   "source": [
    "MSA.head()"
   ]
  },
  {
   "cell_type": "code",
   "execution_count": 5,
   "metadata": {
    "collapsed": false
   },
   "outputs": [],
   "source": [
    "MSA = MSA.iloc[:,:]\n",
    "MSA = MSA.drop('Unnamed: 4', axis = 1)"
   ]
  },
  {
   "cell_type": "code",
   "execution_count": 6,
   "metadata": {
    "collapsed": false
   },
   "outputs": [],
   "source": [
    "MSA['County_State'] = MSA.County + ', ' + MSA.State"
   ]
  },
  {
   "cell_type": "code",
   "execution_count": 7,
   "metadata": {
    "collapsed": false
   },
   "outputs": [],
   "source": [
    "CODES = pd.read_csv('data/MSA_codes.csv')"
   ]
  },
  {
   "cell_type": "code",
   "execution_count": 8,
   "metadata": {
    "collapsed": false
   },
   "outputs": [],
   "source": [
    "codes = CODES.drop('Unnamed: 0', axis = 1)"
   ]
  },
  {
   "cell_type": "code",
   "execution_count": 9,
   "metadata": {
    "collapsed": false
   },
   "outputs": [
    {
     "name": "stderr",
     "output_type": "stream",
     "text": [
      "C:\\Users\\enrique\\Anaconda2\\lib\\site-packages\\pandas\\tools\\merge.py:714: UnicodeWarning: Unicode equal comparison failed to convert both arguments to Unicode - interpreting them as being unequal\n",
      "  rlab = rizer.factorize(rk)\n"
     ]
    }
   ],
   "source": [
    "table = pd.merge(codes,MSA, on = 'County_State', how = 'outer')"
   ]
  },
  {
   "cell_type": "code",
   "execution_count": 10,
   "metadata": {
    "collapsed": false
   },
   "outputs": [
    {
     "data": {
      "text/html": [
       "<div>\n",
       "<table border=\"1\" class=\"dataframe\">\n",
       "  <thead>\n",
       "    <tr style=\"text-align: right;\">\n",
       "      <th></th>\n",
       "      <th>MSA</th>\n",
       "      <th>Code</th>\n",
       "      <th>County_State</th>\n",
       "      <th>State</th>\n",
       "      <th>County</th>\n",
       "      <th>Pop 2000</th>\n",
       "      <th>Total</th>\n",
       "      <th>Commercial</th>\n",
       "      <th>Industrial</th>\n",
       "      <th>Residential</th>\n",
       "      <th>Electricity Prod</th>\n",
       "      <th>Onroad</th>\n",
       "      <th>Cement</th>\n",
       "      <th>Aircraft</th>\n",
       "      <th>Unknown</th>\n",
       "      <th>Nonroad</th>\n",
       "      <th>Transport</th>\n",
       "      <th>Total area sq miles</th>\n",
       "      <th>Density per square mile of land area</th>\n",
       "    </tr>\n",
       "  </thead>\n",
       "  <tbody>\n",
       "    <tr>\n",
       "      <th>0</th>\n",
       "      <td>10180.0</td>\n",
       "      <td>48059.0</td>\n",
       "      <td>Callahan County, TX</td>\n",
       "      <td>TX</td>\n",
       "      <td>Callahan County</td>\n",
       "      <td>12905.0</td>\n",
       "      <td>0.076143</td>\n",
       "      <td>0.035945</td>\n",
       "      <td>0.459007</td>\n",
       "      <td>0.106726</td>\n",
       "      <td>0.000000</td>\n",
       "      <td>5.131942</td>\n",
       "      <td>0.0</td>\n",
       "      <td>0.000000</td>\n",
       "      <td>0.000000</td>\n",
       "      <td>0.166620</td>\n",
       "      <td>5.298563</td>\n",
       "      <td>1276.33</td>\n",
       "      <td>370.1</td>\n",
       "    </tr>\n",
       "    <tr>\n",
       "      <th>1</th>\n",
       "      <td>10180.0</td>\n",
       "      <td>48253.0</td>\n",
       "      <td>Jones County, TX</td>\n",
       "      <td>TX</td>\n",
       "      <td>Jones County</td>\n",
       "      <td>20785.0</td>\n",
       "      <td>0.191232</td>\n",
       "      <td>0.052065</td>\n",
       "      <td>0.028744</td>\n",
       "      <td>0.086624</td>\n",
       "      <td>6.689065</td>\n",
       "      <td>1.775457</td>\n",
       "      <td>0.0</td>\n",
       "      <td>0.057850</td>\n",
       "      <td>0.145415</td>\n",
       "      <td>0.365256</td>\n",
       "      <td>2.343978</td>\n",
       "      <td>753.58</td>\n",
       "      <td>20.6</td>\n",
       "    </tr>\n",
       "    <tr>\n",
       "      <th>2</th>\n",
       "      <td>10180.0</td>\n",
       "      <td>48441.0</td>\n",
       "      <td>Taylor County, TX</td>\n",
       "      <td>TX</td>\n",
       "      <td>Taylor County</td>\n",
       "      <td>126555.0</td>\n",
       "      <td>0.382555</td>\n",
       "      <td>0.176507</td>\n",
       "      <td>0.122232</td>\n",
       "      <td>0.216701</td>\n",
       "      <td>0.000000</td>\n",
       "      <td>1.970745</td>\n",
       "      <td>0.0</td>\n",
       "      <td>0.119326</td>\n",
       "      <td>0.299949</td>\n",
       "      <td>0.117378</td>\n",
       "      <td>2.507398</td>\n",
       "      <td>2357.75</td>\n",
       "      <td>0.5</td>\n",
       "    </tr>\n",
       "    <tr>\n",
       "      <th>3</th>\n",
       "      <td>10380.0</td>\n",
       "      <td>72003.0</td>\n",
       "      <td>Aguada Municipio, PR</td>\n",
       "      <td>NaN</td>\n",
       "      <td>NaN</td>\n",
       "      <td>NaN</td>\n",
       "      <td>NaN</td>\n",
       "      <td>NaN</td>\n",
       "      <td>NaN</td>\n",
       "      <td>NaN</td>\n",
       "      <td>NaN</td>\n",
       "      <td>NaN</td>\n",
       "      <td>NaN</td>\n",
       "      <td>NaN</td>\n",
       "      <td>NaN</td>\n",
       "      <td>NaN</td>\n",
       "      <td>NaN</td>\n",
       "      <td>NaN</td>\n",
       "      <td>NaN</td>\n",
       "    </tr>\n",
       "    <tr>\n",
       "      <th>4</th>\n",
       "      <td>10380.0</td>\n",
       "      <td>72005.0</td>\n",
       "      <td>Aguadilla Municipio, PR</td>\n",
       "      <td>NaN</td>\n",
       "      <td>NaN</td>\n",
       "      <td>NaN</td>\n",
       "      <td>NaN</td>\n",
       "      <td>NaN</td>\n",
       "      <td>NaN</td>\n",
       "      <td>NaN</td>\n",
       "      <td>NaN</td>\n",
       "      <td>NaN</td>\n",
       "      <td>NaN</td>\n",
       "      <td>NaN</td>\n",
       "      <td>NaN</td>\n",
       "      <td>NaN</td>\n",
       "      <td>NaN</td>\n",
       "      <td>NaN</td>\n",
       "      <td>NaN</td>\n",
       "    </tr>\n",
       "  </tbody>\n",
       "</table>\n",
       "</div>"
      ],
      "text/plain": [
       "       MSA     Code             County_State State           County  Pop 2000  \\\n",
       "0  10180.0  48059.0      Callahan County, TX    TX  Callahan County   12905.0   \n",
       "1  10180.0  48253.0         Jones County, TX    TX     Jones County   20785.0   \n",
       "2  10180.0  48441.0        Taylor County, TX    TX    Taylor County  126555.0   \n",
       "3  10380.0  72003.0     Aguada Municipio, PR   NaN              NaN       NaN   \n",
       "4  10380.0  72005.0  Aguadilla Municipio, PR   NaN              NaN       NaN   \n",
       "\n",
       "      Total  Commercial  Industrial  Residential  Electricity Prod    Onroad  \\\n",
       "0  0.076143    0.035945    0.459007     0.106726          0.000000  5.131942   \n",
       "1  0.191232    0.052065    0.028744     0.086624          6.689065  1.775457   \n",
       "2  0.382555    0.176507    0.122232     0.216701          0.000000  1.970745   \n",
       "3       NaN         NaN         NaN          NaN               NaN       NaN   \n",
       "4       NaN         NaN         NaN          NaN               NaN       NaN   \n",
       "\n",
       "   Cement  Aircraft   Unknown   Nonroad  Transport  Total area sq miles  \\\n",
       "0     0.0  0.000000  0.000000  0.166620   5.298563              1276.33   \n",
       "1     0.0  0.057850  0.145415  0.365256   2.343978               753.58   \n",
       "2     0.0  0.119326  0.299949  0.117378   2.507398              2357.75   \n",
       "3     NaN       NaN       NaN       NaN        NaN                  NaN   \n",
       "4     NaN       NaN       NaN       NaN        NaN                  NaN   \n",
       "\n",
       "   Density per square mile of land area  \n",
       "0                                 370.1  \n",
       "1                                  20.6  \n",
       "2                                   0.5  \n",
       "3                                   NaN  \n",
       "4                                   NaN  "
      ]
     },
     "execution_count": 10,
     "metadata": {},
     "output_type": "execute_result"
    }
   ],
   "source": [
    "table.head()"
   ]
  },
  {
   "cell_type": "code",
   "execution_count": 11,
   "metadata": {
    "collapsed": false
   },
   "outputs": [],
   "source": [
    "table = table.dropna()"
   ]
  },
  {
   "cell_type": "code",
   "execution_count": 12,
   "metadata": {
    "collapsed": false
   },
   "outputs": [
    {
     "data": {
      "text/html": [
       "<div>\n",
       "<table border=\"1\" class=\"dataframe\">\n",
       "  <thead>\n",
       "    <tr style=\"text-align: right;\">\n",
       "      <th></th>\n",
       "      <th>MSA</th>\n",
       "      <th>Code</th>\n",
       "      <th>County_State</th>\n",
       "      <th>State</th>\n",
       "      <th>County</th>\n",
       "      <th>Pop 2000</th>\n",
       "      <th>Total</th>\n",
       "      <th>Commercial</th>\n",
       "      <th>Industrial</th>\n",
       "      <th>Residential</th>\n",
       "      <th>Electricity Prod</th>\n",
       "      <th>Onroad</th>\n",
       "      <th>Cement</th>\n",
       "      <th>Aircraft</th>\n",
       "      <th>Unknown</th>\n",
       "      <th>Nonroad</th>\n",
       "      <th>Transport</th>\n",
       "      <th>Total area sq miles</th>\n",
       "      <th>Density per square mile of land area</th>\n",
       "    </tr>\n",
       "  </thead>\n",
       "  <tbody>\n",
       "    <tr>\n",
       "      <th>0</th>\n",
       "      <td>10180.0</td>\n",
       "      <td>48059.0</td>\n",
       "      <td>Callahan County, TX</td>\n",
       "      <td>TX</td>\n",
       "      <td>Callahan County</td>\n",
       "      <td>12905.0</td>\n",
       "      <td>0.076143</td>\n",
       "      <td>0.035945</td>\n",
       "      <td>0.459007</td>\n",
       "      <td>0.106726</td>\n",
       "      <td>0.000000</td>\n",
       "      <td>5.131942</td>\n",
       "      <td>0.0</td>\n",
       "      <td>0.000000</td>\n",
       "      <td>0.000000</td>\n",
       "      <td>0.166620</td>\n",
       "      <td>5.298563</td>\n",
       "      <td>1276.33</td>\n",
       "      <td>370.1</td>\n",
       "    </tr>\n",
       "    <tr>\n",
       "      <th>1</th>\n",
       "      <td>10180.0</td>\n",
       "      <td>48253.0</td>\n",
       "      <td>Jones County, TX</td>\n",
       "      <td>TX</td>\n",
       "      <td>Jones County</td>\n",
       "      <td>20785.0</td>\n",
       "      <td>0.191232</td>\n",
       "      <td>0.052065</td>\n",
       "      <td>0.028744</td>\n",
       "      <td>0.086624</td>\n",
       "      <td>6.689065</td>\n",
       "      <td>1.775457</td>\n",
       "      <td>0.0</td>\n",
       "      <td>0.057850</td>\n",
       "      <td>0.145415</td>\n",
       "      <td>0.365256</td>\n",
       "      <td>2.343978</td>\n",
       "      <td>753.58</td>\n",
       "      <td>20.6</td>\n",
       "    </tr>\n",
       "    <tr>\n",
       "      <th>2</th>\n",
       "      <td>10180.0</td>\n",
       "      <td>48441.0</td>\n",
       "      <td>Taylor County, TX</td>\n",
       "      <td>TX</td>\n",
       "      <td>Taylor County</td>\n",
       "      <td>126555.0</td>\n",
       "      <td>0.382555</td>\n",
       "      <td>0.176507</td>\n",
       "      <td>0.122232</td>\n",
       "      <td>0.216701</td>\n",
       "      <td>0.000000</td>\n",
       "      <td>1.970745</td>\n",
       "      <td>0.0</td>\n",
       "      <td>0.119326</td>\n",
       "      <td>0.299949</td>\n",
       "      <td>0.117378</td>\n",
       "      <td>2.507398</td>\n",
       "      <td>2357.75</td>\n",
       "      <td>0.5</td>\n",
       "    </tr>\n",
       "    <tr>\n",
       "      <th>10</th>\n",
       "      <td>10420.0</td>\n",
       "      <td>39133.0</td>\n",
       "      <td>Portage County, OH</td>\n",
       "      <td>OH</td>\n",
       "      <td>Portage County</td>\n",
       "      <td>152061.0</td>\n",
       "      <td>0.481948</td>\n",
       "      <td>0.218311</td>\n",
       "      <td>0.292481</td>\n",
       "      <td>0.556089</td>\n",
       "      <td>0.000000</td>\n",
       "      <td>1.893560</td>\n",
       "      <td>0.0</td>\n",
       "      <td>0.008256</td>\n",
       "      <td>0.020753</td>\n",
       "      <td>0.179986</td>\n",
       "      <td>2.102555</td>\n",
       "      <td>426.33</td>\n",
       "      <td>99.7</td>\n",
       "    </tr>\n",
       "    <tr>\n",
       "      <th>11</th>\n",
       "      <td>10420.0</td>\n",
       "      <td>39153.0</td>\n",
       "      <td>Summit County, OH</td>\n",
       "      <td>OH</td>\n",
       "      <td>Summit County</td>\n",
       "      <td>542899.0</td>\n",
       "      <td>1.566309</td>\n",
       "      <td>0.230575</td>\n",
       "      <td>0.515684</td>\n",
       "      <td>0.581992</td>\n",
       "      <td>0.000000</td>\n",
       "      <td>1.247158</td>\n",
       "      <td>0.0</td>\n",
       "      <td>0.055781</td>\n",
       "      <td>0.140216</td>\n",
       "      <td>0.113678</td>\n",
       "      <td>1.556833</td>\n",
       "      <td>634.72</td>\n",
       "      <td>365.2</td>\n",
       "    </tr>\n",
       "  </tbody>\n",
       "</table>\n",
       "</div>"
      ],
      "text/plain": [
       "        MSA     Code         County_State State           County  Pop 2000  \\\n",
       "0   10180.0  48059.0  Callahan County, TX    TX  Callahan County   12905.0   \n",
       "1   10180.0  48253.0     Jones County, TX    TX     Jones County   20785.0   \n",
       "2   10180.0  48441.0    Taylor County, TX    TX    Taylor County  126555.0   \n",
       "10  10420.0  39133.0   Portage County, OH    OH   Portage County  152061.0   \n",
       "11  10420.0  39153.0    Summit County, OH    OH    Summit County  542899.0   \n",
       "\n",
       "       Total  Commercial  Industrial  Residential  Electricity Prod    Onroad  \\\n",
       "0   0.076143    0.035945    0.459007     0.106726          0.000000  5.131942   \n",
       "1   0.191232    0.052065    0.028744     0.086624          6.689065  1.775457   \n",
       "2   0.382555    0.176507    0.122232     0.216701          0.000000  1.970745   \n",
       "10  0.481948    0.218311    0.292481     0.556089          0.000000  1.893560   \n",
       "11  1.566309    0.230575    0.515684     0.581992          0.000000  1.247158   \n",
       "\n",
       "    Cement  Aircraft   Unknown   Nonroad  Transport  Total area sq miles  \\\n",
       "0      0.0  0.000000  0.000000  0.166620   5.298563              1276.33   \n",
       "1      0.0  0.057850  0.145415  0.365256   2.343978               753.58   \n",
       "2      0.0  0.119326  0.299949  0.117378   2.507398              2357.75   \n",
       "10     0.0  0.008256  0.020753  0.179986   2.102555               426.33   \n",
       "11     0.0  0.055781  0.140216  0.113678   1.556833               634.72   \n",
       "\n",
       "    Density per square mile of land area  \n",
       "0                                  370.1  \n",
       "1                                   20.6  \n",
       "2                                    0.5  \n",
       "10                                  99.7  \n",
       "11                                 365.2  "
      ]
     },
     "execution_count": 12,
     "metadata": {},
     "output_type": "execute_result"
    }
   ],
   "source": [
    "table.head()"
   ]
  },
  {
   "cell_type": "code",
   "execution_count": 13,
   "metadata": {
    "collapsed": false
   },
   "outputs": [],
   "source": [
    "table.Total = table.Total*1000000"
   ]
  },
  {
   "cell_type": "code",
   "execution_count": 14,
   "metadata": {
    "collapsed": false
   },
   "outputs": [],
   "source": [
    "MSAs = table.groupby(by = 'MSA').sum()"
   ]
  },
  {
   "cell_type": "code",
   "execution_count": 15,
   "metadata": {
    "collapsed": false
   },
   "outputs": [
    {
     "data": {
      "text/html": [
       "<div>\n",
       "<table border=\"1\" class=\"dataframe\">\n",
       "  <thead>\n",
       "    <tr style=\"text-align: right;\">\n",
       "      <th></th>\n",
       "      <th>Code</th>\n",
       "      <th>Pop 2000</th>\n",
       "      <th>Total</th>\n",
       "      <th>Commercial</th>\n",
       "      <th>Industrial</th>\n",
       "      <th>Residential</th>\n",
       "      <th>Electricity Prod</th>\n",
       "      <th>Onroad</th>\n",
       "      <th>Cement</th>\n",
       "      <th>Aircraft</th>\n",
       "      <th>Unknown</th>\n",
       "      <th>Nonroad</th>\n",
       "      <th>Transport</th>\n",
       "      <th>Total area sq miles</th>\n",
       "      <th>Density per square mile of land area</th>\n",
       "    </tr>\n",
       "    <tr>\n",
       "      <th>MSA</th>\n",
       "      <th></th>\n",
       "      <th></th>\n",
       "      <th></th>\n",
       "      <th></th>\n",
       "      <th></th>\n",
       "      <th></th>\n",
       "      <th></th>\n",
       "      <th></th>\n",
       "      <th></th>\n",
       "      <th></th>\n",
       "      <th></th>\n",
       "      <th></th>\n",
       "      <th></th>\n",
       "      <th></th>\n",
       "      <th></th>\n",
       "    </tr>\n",
       "  </thead>\n",
       "  <tbody>\n",
       "    <tr>\n",
       "      <th>10180.0</th>\n",
       "      <td>144753.0</td>\n",
       "      <td>160245.0</td>\n",
       "      <td>6.499298e+05</td>\n",
       "      <td>0.264517</td>\n",
       "      <td>0.609983</td>\n",
       "      <td>0.410050</td>\n",
       "      <td>6.689065</td>\n",
       "      <td>8.878144</td>\n",
       "      <td>0.000000</td>\n",
       "      <td>0.177176</td>\n",
       "      <td>0.445364</td>\n",
       "      <td>0.649255</td>\n",
       "      <td>10.149939</td>\n",
       "      <td>4387.66</td>\n",
       "      <td>391.2</td>\n",
       "    </tr>\n",
       "    <tr>\n",
       "      <th>10420.0</th>\n",
       "      <td>78286.0</td>\n",
       "      <td>694960.0</td>\n",
       "      <td>2.048257e+06</td>\n",
       "      <td>0.448886</td>\n",
       "      <td>0.808165</td>\n",
       "      <td>1.138082</td>\n",
       "      <td>0.000000</td>\n",
       "      <td>3.140719</td>\n",
       "      <td>0.000000</td>\n",
       "      <td>0.064037</td>\n",
       "      <td>0.160969</td>\n",
       "      <td>0.293664</td>\n",
       "      <td>3.659388</td>\n",
       "      <td>1061.05</td>\n",
       "      <td>464.9</td>\n",
       "    </tr>\n",
       "    <tr>\n",
       "      <th>10500.0</th>\n",
       "      <td>65873.0</td>\n",
       "      <td>157833.0</td>\n",
       "      <td>9.775215e+05</td>\n",
       "      <td>0.312726</td>\n",
       "      <td>5.299540</td>\n",
       "      <td>0.721335</td>\n",
       "      <td>1.923182</td>\n",
       "      <td>10.254062</td>\n",
       "      <td>0.000000</td>\n",
       "      <td>0.322680</td>\n",
       "      <td>0.811117</td>\n",
       "      <td>1.314830</td>\n",
       "      <td>12.702689</td>\n",
       "      <td>6709.06</td>\n",
       "      <td>869.0</td>\n",
       "    </tr>\n",
       "    <tr>\n",
       "      <th>10580.0</th>\n",
       "      <td>180363.0</td>\n",
       "      <td>825875.0</td>\n",
       "      <td>2.816506e+06</td>\n",
       "      <td>1.095194</td>\n",
       "      <td>1.013204</td>\n",
       "      <td>2.584165</td>\n",
       "      <td>1.403509</td>\n",
       "      <td>8.119883</td>\n",
       "      <td>0.808433</td>\n",
       "      <td>0.186385</td>\n",
       "      <td>0.468514</td>\n",
       "      <td>0.619370</td>\n",
       "      <td>9.394151</td>\n",
       "      <td>2315.12</td>\n",
       "      <td>8456.8</td>\n",
       "    </tr>\n",
       "    <tr>\n",
       "      <th>10740.0</th>\n",
       "      <td>140162.0</td>\n",
       "      <td>729649.0</td>\n",
       "      <td>2.265461e+06</td>\n",
       "      <td>0.659015</td>\n",
       "      <td>1.950239</td>\n",
       "      <td>1.528412</td>\n",
       "      <td>0.424613</td>\n",
       "      <td>10.309857</td>\n",
       "      <td>0.072396</td>\n",
       "      <td>0.134789</td>\n",
       "      <td>0.338817</td>\n",
       "      <td>0.412407</td>\n",
       "      <td>11.195870</td>\n",
       "      <td>16831.39</td>\n",
       "      <td>584.9</td>\n",
       "    </tr>\n",
       "  </tbody>\n",
       "</table>\n",
       "</div>"
      ],
      "text/plain": [
       "             Code  Pop 2000         Total  Commercial  Industrial  \\\n",
       "MSA                                                                 \n",
       "10180.0  144753.0  160245.0  6.499298e+05    0.264517    0.609983   \n",
       "10420.0   78286.0  694960.0  2.048257e+06    0.448886    0.808165   \n",
       "10500.0   65873.0  157833.0  9.775215e+05    0.312726    5.299540   \n",
       "10580.0  180363.0  825875.0  2.816506e+06    1.095194    1.013204   \n",
       "10740.0  140162.0  729649.0  2.265461e+06    0.659015    1.950239   \n",
       "\n",
       "         Residential  Electricity Prod     Onroad    Cement  Aircraft  \\\n",
       "MSA                                                                     \n",
       "10180.0     0.410050          6.689065   8.878144  0.000000  0.177176   \n",
       "10420.0     1.138082          0.000000   3.140719  0.000000  0.064037   \n",
       "10500.0     0.721335          1.923182  10.254062  0.000000  0.322680   \n",
       "10580.0     2.584165          1.403509   8.119883  0.808433  0.186385   \n",
       "10740.0     1.528412          0.424613  10.309857  0.072396  0.134789   \n",
       "\n",
       "          Unknown   Nonroad  Transport  Total area sq miles  \\\n",
       "MSA                                                           \n",
       "10180.0  0.445364  0.649255  10.149939              4387.66   \n",
       "10420.0  0.160969  0.293664   3.659388              1061.05   \n",
       "10500.0  0.811117  1.314830  12.702689              6709.06   \n",
       "10580.0  0.468514  0.619370   9.394151              2315.12   \n",
       "10740.0  0.338817  0.412407  11.195870             16831.39   \n",
       "\n",
       "         Density per square mile of land area  \n",
       "MSA                                            \n",
       "10180.0                                 391.2  \n",
       "10420.0                                 464.9  \n",
       "10500.0                                 869.0  \n",
       "10580.0                                8456.8  \n",
       "10740.0                                 584.9  "
      ]
     },
     "execution_count": 15,
     "metadata": {},
     "output_type": "execute_result"
    }
   ],
   "source": [
    "MSAs.head()"
   ]
  },
  {
   "cell_type": "code",
   "execution_count": 16,
   "metadata": {
    "collapsed": false
   },
   "outputs": [],
   "source": [
    "MSAs = MSAs.reset_index()"
   ]
  },
  {
   "cell_type": "code",
   "execution_count": 17,
   "metadata": {
    "collapsed": false
   },
   "outputs": [
    {
     "data": {
      "text/html": [
       "<div>\n",
       "<table border=\"1\" class=\"dataframe\">\n",
       "  <thead>\n",
       "    <tr style=\"text-align: right;\">\n",
       "      <th></th>\n",
       "      <th>MSA</th>\n",
       "      <th>Code</th>\n",
       "      <th>Pop 2000</th>\n",
       "      <th>Total</th>\n",
       "      <th>Commercial</th>\n",
       "      <th>Industrial</th>\n",
       "      <th>Residential</th>\n",
       "      <th>Electricity Prod</th>\n",
       "      <th>Onroad</th>\n",
       "      <th>Cement</th>\n",
       "      <th>Aircraft</th>\n",
       "      <th>Unknown</th>\n",
       "      <th>Nonroad</th>\n",
       "      <th>Transport</th>\n",
       "      <th>Total area sq miles</th>\n",
       "      <th>Density per square mile of land area</th>\n",
       "    </tr>\n",
       "  </thead>\n",
       "  <tbody>\n",
       "    <tr>\n",
       "      <th>0</th>\n",
       "      <td>10180.0</td>\n",
       "      <td>144753.0</td>\n",
       "      <td>160245.0</td>\n",
       "      <td>6.499298e+05</td>\n",
       "      <td>0.264517</td>\n",
       "      <td>0.609983</td>\n",
       "      <td>0.410050</td>\n",
       "      <td>6.689065</td>\n",
       "      <td>8.878144</td>\n",
       "      <td>0.000000</td>\n",
       "      <td>0.177176</td>\n",
       "      <td>0.445364</td>\n",
       "      <td>0.649255</td>\n",
       "      <td>10.149939</td>\n",
       "      <td>4387.66</td>\n",
       "      <td>391.2</td>\n",
       "    </tr>\n",
       "    <tr>\n",
       "      <th>1</th>\n",
       "      <td>10420.0</td>\n",
       "      <td>78286.0</td>\n",
       "      <td>694960.0</td>\n",
       "      <td>2.048257e+06</td>\n",
       "      <td>0.448886</td>\n",
       "      <td>0.808165</td>\n",
       "      <td>1.138082</td>\n",
       "      <td>0.000000</td>\n",
       "      <td>3.140719</td>\n",
       "      <td>0.000000</td>\n",
       "      <td>0.064037</td>\n",
       "      <td>0.160969</td>\n",
       "      <td>0.293664</td>\n",
       "      <td>3.659388</td>\n",
       "      <td>1061.05</td>\n",
       "      <td>464.9</td>\n",
       "    </tr>\n",
       "    <tr>\n",
       "      <th>2</th>\n",
       "      <td>10500.0</td>\n",
       "      <td>65873.0</td>\n",
       "      <td>157833.0</td>\n",
       "      <td>9.775215e+05</td>\n",
       "      <td>0.312726</td>\n",
       "      <td>5.299540</td>\n",
       "      <td>0.721335</td>\n",
       "      <td>1.923182</td>\n",
       "      <td>10.254062</td>\n",
       "      <td>0.000000</td>\n",
       "      <td>0.322680</td>\n",
       "      <td>0.811117</td>\n",
       "      <td>1.314830</td>\n",
       "      <td>12.702689</td>\n",
       "      <td>6709.06</td>\n",
       "      <td>869.0</td>\n",
       "    </tr>\n",
       "    <tr>\n",
       "      <th>3</th>\n",
       "      <td>10580.0</td>\n",
       "      <td>180363.0</td>\n",
       "      <td>825875.0</td>\n",
       "      <td>2.816506e+06</td>\n",
       "      <td>1.095194</td>\n",
       "      <td>1.013204</td>\n",
       "      <td>2.584165</td>\n",
       "      <td>1.403509</td>\n",
       "      <td>8.119883</td>\n",
       "      <td>0.808433</td>\n",
       "      <td>0.186385</td>\n",
       "      <td>0.468514</td>\n",
       "      <td>0.619370</td>\n",
       "      <td>9.394151</td>\n",
       "      <td>2315.12</td>\n",
       "      <td>8456.8</td>\n",
       "    </tr>\n",
       "    <tr>\n",
       "      <th>4</th>\n",
       "      <td>10740.0</td>\n",
       "      <td>140162.0</td>\n",
       "      <td>729649.0</td>\n",
       "      <td>2.265461e+06</td>\n",
       "      <td>0.659015</td>\n",
       "      <td>1.950239</td>\n",
       "      <td>1.528412</td>\n",
       "      <td>0.424613</td>\n",
       "      <td>10.309857</td>\n",
       "      <td>0.072396</td>\n",
       "      <td>0.134789</td>\n",
       "      <td>0.338817</td>\n",
       "      <td>0.412407</td>\n",
       "      <td>11.195870</td>\n",
       "      <td>16831.39</td>\n",
       "      <td>584.9</td>\n",
       "    </tr>\n",
       "  </tbody>\n",
       "</table>\n",
       "</div>"
      ],
      "text/plain": [
       "       MSA      Code  Pop 2000         Total  Commercial  Industrial  \\\n",
       "0  10180.0  144753.0  160245.0  6.499298e+05    0.264517    0.609983   \n",
       "1  10420.0   78286.0  694960.0  2.048257e+06    0.448886    0.808165   \n",
       "2  10500.0   65873.0  157833.0  9.775215e+05    0.312726    5.299540   \n",
       "3  10580.0  180363.0  825875.0  2.816506e+06    1.095194    1.013204   \n",
       "4  10740.0  140162.0  729649.0  2.265461e+06    0.659015    1.950239   \n",
       "\n",
       "   Residential  Electricity Prod     Onroad    Cement  Aircraft   Unknown  \\\n",
       "0     0.410050          6.689065   8.878144  0.000000  0.177176  0.445364   \n",
       "1     1.138082          0.000000   3.140719  0.000000  0.064037  0.160969   \n",
       "2     0.721335          1.923182  10.254062  0.000000  0.322680  0.811117   \n",
       "3     2.584165          1.403509   8.119883  0.808433  0.186385  0.468514   \n",
       "4     1.528412          0.424613  10.309857  0.072396  0.134789  0.338817   \n",
       "\n",
       "    Nonroad  Transport  Total area sq miles  \\\n",
       "0  0.649255  10.149939              4387.66   \n",
       "1  0.293664   3.659388              1061.05   \n",
       "2  1.314830  12.702689              6709.06   \n",
       "3  0.619370   9.394151              2315.12   \n",
       "4  0.412407  11.195870             16831.39   \n",
       "\n",
       "   Density per square mile of land area  \n",
       "0                                 391.2  \n",
       "1                                 464.9  \n",
       "2                                 869.0  \n",
       "3                                8456.8  \n",
       "4                                 584.9  "
      ]
     },
     "execution_count": 17,
     "metadata": {},
     "output_type": "execute_result"
    }
   ],
   "source": [
    "MSAs.head()"
   ]
  },
  {
   "cell_type": "code",
   "execution_count": 18,
   "metadata": {
    "collapsed": false
   },
   "outputs": [],
   "source": [
    "SMA_Name = pd.read_csv('data/SMA_codes_Names.csv').iloc[:,1:]\n",
    "SMA_Name.MSA = SMA_Name.MSA*10.0"
   ]
  },
  {
   "cell_type": "code",
   "execution_count": 19,
   "metadata": {
    "collapsed": false
   },
   "outputs": [],
   "source": [
    "MSA_total = pd.merge(MSAs,SMA_Name, on = 'MSA')\n",
    "MSA_red = MSA_total [MSA_total['Pop 2000']>100000]"
   ]
  },
  {
   "cell_type": "code",
   "execution_count": 20,
   "metadata": {
    "collapsed": false
   },
   "outputs": [],
   "source": [
    "#MSA_red = MSA_red[[u'MSA', u'Code', u'Pop 2000',\n",
    "                                      #u'Total',\n",
    "                                                        #u'Total area sq miles',\n",
    "       #u'Density per square mile of land area',\n",
    "                                   #u'MSA_Name']]"
   ]
  },
  {
   "cell_type": "code",
   "execution_count": 22,
   "metadata": {
    "collapsed": true
   },
   "outputs": [],
   "source": [
    "# normalizar"
   ]
  },
  {
   "cell_type": "code",
   "execution_count": 23,
   "metadata": {
    "collapsed": false
   },
   "outputs": [
    {
     "data": {
      "text/html": [
       "<div>\n",
       "<table border=\"1\" class=\"dataframe\">\n",
       "  <thead>\n",
       "    <tr style=\"text-align: right;\">\n",
       "      <th></th>\n",
       "      <th>MSA</th>\n",
       "      <th>Code</th>\n",
       "      <th>Pop 2000</th>\n",
       "      <th>Total</th>\n",
       "      <th>Commercial</th>\n",
       "      <th>Industrial</th>\n",
       "      <th>Residential</th>\n",
       "      <th>Electricity Prod</th>\n",
       "      <th>Onroad</th>\n",
       "      <th>Cement</th>\n",
       "      <th>Aircraft</th>\n",
       "      <th>Unknown</th>\n",
       "      <th>Nonroad</th>\n",
       "      <th>Transport</th>\n",
       "      <th>Total area sq miles</th>\n",
       "      <th>Density per square mile of land area</th>\n",
       "      <th>MSA_Name</th>\n",
       "      <th>MSA Code</th>\n",
       "      <th>Area</th>\n",
       "      <th>Density</th>\n",
       "    </tr>\n",
       "  </thead>\n",
       "  <tbody>\n",
       "    <tr>\n",
       "      <th>0</th>\n",
       "      <td>NaN</td>\n",
       "      <td>NaN</td>\n",
       "      <td>160245.0</td>\n",
       "      <td>4.055850</td>\n",
       "      <td>NaN</td>\n",
       "      <td>NaN</td>\n",
       "      <td>NaN</td>\n",
       "      <td>NaN</td>\n",
       "      <td>NaN</td>\n",
       "      <td>NaN</td>\n",
       "      <td>NaN</td>\n",
       "      <td>NaN</td>\n",
       "      <td>NaN</td>\n",
       "      <td>NaN</td>\n",
       "      <td>NaN</td>\n",
       "      <td>NaN</td>\n",
       "      <td>Abilene, TX Metropolitan Sta...</td>\n",
       "      <td>10180.0</td>\n",
       "      <td>4387.66</td>\n",
       "      <td>391.2</td>\n",
       "    </tr>\n",
       "    <tr>\n",
       "      <th>1</th>\n",
       "      <td>NaN</td>\n",
       "      <td>NaN</td>\n",
       "      <td>694960.0</td>\n",
       "      <td>2.947302</td>\n",
       "      <td>NaN</td>\n",
       "      <td>NaN</td>\n",
       "      <td>NaN</td>\n",
       "      <td>NaN</td>\n",
       "      <td>NaN</td>\n",
       "      <td>NaN</td>\n",
       "      <td>NaN</td>\n",
       "      <td>NaN</td>\n",
       "      <td>NaN</td>\n",
       "      <td>NaN</td>\n",
       "      <td>NaN</td>\n",
       "      <td>NaN</td>\n",
       "      <td>Akron, OH Metropolitan Stati...</td>\n",
       "      <td>10420.0</td>\n",
       "      <td>1061.05</td>\n",
       "      <td>464.9</td>\n",
       "    </tr>\n",
       "  </tbody>\n",
       "</table>\n",
       "</div>"
      ],
      "text/plain": [
       "   MSA Code  Pop 2000     Total Commercial Industrial Residential  \\\n",
       "0  NaN  NaN  160245.0  4.055850        NaN        NaN         NaN   \n",
       "1  NaN  NaN  694960.0  2.947302        NaN        NaN         NaN   \n",
       "\n",
       "  Electricity Prod Onroad Cement Aircraft Unknown Nonroad Transport  \\\n",
       "0              NaN    NaN    NaN      NaN     NaN     NaN       NaN   \n",
       "1              NaN    NaN    NaN      NaN     NaN     NaN       NaN   \n",
       "\n",
       "  Total area sq miles Density per square mile of land area  \\\n",
       "0                 NaN                                  NaN   \n",
       "1                 NaN                                  NaN   \n",
       "\n",
       "                                            MSA_Name  MSA Code     Area  \\\n",
       "0                    Abilene, TX Metropolitan Sta...   10180.0  4387.66   \n",
       "1                    Akron, OH Metropolitan Stati...   10420.0  1061.05   \n",
       "\n",
       "   Density  \n",
       "0    391.2  \n",
       "1    464.9  "
      ]
     },
     "execution_count": 23,
     "metadata": {},
     "output_type": "execute_result"
    }
   ],
   "source": [
    "MSA_red_norm = pd.DataFrame(columns=MSA_red.columns)\n",
    "MSA_red_norm['Pop 2000'] = MSA_red['Pop 2000']\n",
    "MSA_red_norm['MSA Code'] = MSA_red['MSA']\n",
    "MSA_red_norm['Area'] = MSA_red['Total area sq miles']\n",
    "MSA_red_norm['MSA_Name'] = MSA_red['MSA_Name']\n",
    "MSA_red_norm['Density'] = MSA_red['Density per square mile of land area']\n",
    "MSA_red_norm['Total'] = MSA_red['Total']/MSA_red['Pop 2000']\n",
    "MSA_red_norm.head(2)"
   ]
  },
  {
   "cell_type": "code",
   "execution_count": 24,
   "metadata": {
    "collapsed": false
   },
   "outputs": [],
   "source": [
    "MSA_ascend = MSA_red_norm.sort_values('Total', ascending =False)\n",
    "MSA_descend = MSA_red_norm.sort_values('Total')"
   ]
  },
  {
   "cell_type": "code",
   "execution_count": 25,
   "metadata": {
    "collapsed": false
   },
   "outputs": [],
   "source": [
    "MSA_ascend_red = MSA_ascend [[ u'MSA', u'Code', u'Pop 2000', u'Total',u'MSA_Name']] \n",
    "\n",
    "# creation of the table Population against total Carbon E"
   ]
  },
  {
   "cell_type": "code",
   "execution_count": 26,
   "metadata": {
    "collapsed": false
   },
   "outputs": [
    {
     "data": {
      "text/html": [
       "<div>\n",
       "<table border=\"1\" class=\"dataframe\">\n",
       "  <thead>\n",
       "    <tr style=\"text-align: right;\">\n",
       "      <th></th>\n",
       "      <th>MSA</th>\n",
       "      <th>Code</th>\n",
       "      <th>Pop 2000</th>\n",
       "      <th>Total</th>\n",
       "      <th>MSA_Name</th>\n",
       "    </tr>\n",
       "  </thead>\n",
       "  <tbody>\n",
       "    <tr>\n",
       "      <th>319</th>\n",
       "      <td>NaN</td>\n",
       "      <td>NaN</td>\n",
       "      <td>132008.0</td>\n",
       "      <td>50.928439</td>\n",
       "      <td>Weirton-Steubenville, WV-OH ...</td>\n",
       "    </tr>\n",
       "    <tr>\n",
       "      <th>104</th>\n",
       "      <td>NaN</td>\n",
       "      <td>NaN</td>\n",
       "      <td>116320.0</td>\n",
       "      <td>48.419627</td>\n",
       "      <td>Flagstaff, AZ Metropolitan S...</td>\n",
       "    </tr>\n",
       "    <tr>\n",
       "      <th>238</th>\n",
       "      <td>NaN</td>\n",
       "      <td>NaN</td>\n",
       "      <td>107341.0</td>\n",
       "      <td>47.218939</td>\n",
       "      <td>Pine Bluff, AR Metropolitan ...</td>\n",
       "    </tr>\n",
       "    <tr>\n",
       "      <th>208</th>\n",
       "      <td>NaN</td>\n",
       "      <td>NaN</td>\n",
       "      <td>145945.0</td>\n",
       "      <td>36.631145</td>\n",
       "      <td>Monroe, MI Metropolitan Stat...</td>\n",
       "    </tr>\n",
       "    <tr>\n",
       "      <th>100</th>\n",
       "      <td>NaN</td>\n",
       "      <td>NaN</td>\n",
       "      <td>342815.0</td>\n",
       "      <td>36.033682</td>\n",
       "      <td>Evansville, IN-KY Metropolit...</td>\n",
       "    </tr>\n",
       "  </tbody>\n",
       "</table>\n",
       "</div>"
      ],
      "text/plain": [
       "     MSA Code  Pop 2000      Total  \\\n",
       "319  NaN  NaN  132008.0  50.928439   \n",
       "104  NaN  NaN  116320.0  48.419627   \n",
       "238  NaN  NaN  107341.0  47.218939   \n",
       "208  NaN  NaN  145945.0  36.631145   \n",
       "100  NaN  NaN  342815.0  36.033682   \n",
       "\n",
       "                                              MSA_Name  \n",
       "319                    Weirton-Steubenville, WV-OH ...  \n",
       "104                    Flagstaff, AZ Metropolitan S...  \n",
       "238                    Pine Bluff, AR Metropolitan ...  \n",
       "208                    Monroe, MI Metropolitan Stat...  \n",
       "100                    Evansville, IN-KY Metropolit...  "
      ]
     },
     "execution_count": 26,
     "metadata": {},
     "output_type": "execute_result"
    }
   ],
   "source": [
    "MSA_ascend_red.head()"
   ]
  },
  {
   "cell_type": "code",
   "execution_count": 27,
   "metadata": {
    "collapsed": false
   },
   "outputs": [],
   "source": [
    "MSA_ascend_red.to_csv('Tabla.csv')"
   ]
  },
  {
   "cell_type": "code",
   "execution_count": 28,
   "metadata": {
    "collapsed": true
   },
   "outputs": [],
   "source": [
    "MSA_descend_red = MSA_descend [[ u'MSA', u'Code', u'Pop 2000', u'Total',u'MSA_Name']] \n",
    "MSA_descend_red = MSA_descend [[ u'MSA', u'Code', u'Pop 2000', u'Total',u'MSA_Name']] "
   ]
  },
  {
   "cell_type": "code",
   "execution_count": 29,
   "metadata": {
    "collapsed": false
   },
   "outputs": [
    {
     "data": {
      "text/html": [
       "<div>\n",
       "<table border=\"1\" class=\"dataframe\">\n",
       "  <thead>\n",
       "    <tr style=\"text-align: right;\">\n",
       "      <th></th>\n",
       "      <th>MSA</th>\n",
       "      <th>Code</th>\n",
       "      <th>Pop 2000</th>\n",
       "      <th>Total</th>\n",
       "      <th>MSA_Name</th>\n",
       "    </tr>\n",
       "  </thead>\n",
       "  <tbody>\n",
       "    <tr>\n",
       "      <th>151</th>\n",
       "      <td>NaN</td>\n",
       "      <td>NaN</td>\n",
       "      <td>150355.0</td>\n",
       "      <td>1.655049</td>\n",
       "      <td>Jacksonville, NC Metropolita...</td>\n",
       "    </tr>\n",
       "    <tr>\n",
       "      <th>43</th>\n",
       "      <td>NaN</td>\n",
       "      <td>NaN</td>\n",
       "      <td>231969.0</td>\n",
       "      <td>1.663095</td>\n",
       "      <td>Bremerton-Silverdale, WA Met...</td>\n",
       "    </tr>\n",
       "    <tr>\n",
       "      <th>45</th>\n",
       "      <td>NaN</td>\n",
       "      <td>NaN</td>\n",
       "      <td>335227.0</td>\n",
       "      <td>1.757551</td>\n",
       "      <td>Brownsville-Harlingen, TX Me...</td>\n",
       "    </tr>\n",
       "    <tr>\n",
       "      <th>62</th>\n",
       "      <td>NaN</td>\n",
       "      <td>NaN</td>\n",
       "      <td>203171.0</td>\n",
       "      <td>1.907964</td>\n",
       "      <td>Chico, CA Metropolitan Stati...</td>\n",
       "    </tr>\n",
       "    <tr>\n",
       "      <th>329</th>\n",
       "      <td>NaN</td>\n",
       "      <td>NaN</td>\n",
       "      <td>222581.0</td>\n",
       "      <td>1.920533</td>\n",
       "      <td>Yakima, WA Metropolitan Stat...</td>\n",
       "    </tr>\n",
       "    <tr>\n",
       "      <th>154</th>\n",
       "      <td>NaN</td>\n",
       "      <td>NaN</td>\n",
       "      <td>181607.0</td>\n",
       "      <td>2.009250</td>\n",
       "      <td>Johnson City, TN Metropolita...</td>\n",
       "    </tr>\n",
       "    <tr>\n",
       "      <th>162</th>\n",
       "      <td>NaN</td>\n",
       "      <td>NaN</td>\n",
       "      <td>330714.0</td>\n",
       "      <td>2.019096</td>\n",
       "      <td>Killeen-Temple-Fort Hood, TX...</td>\n",
       "    </tr>\n",
       "    <tr>\n",
       "      <th>125</th>\n",
       "      <td>NaN</td>\n",
       "      <td>NaN</td>\n",
       "      <td>152772.0</td>\n",
       "      <td>2.042636</td>\n",
       "      <td>Greenville, NC Metropolitan ...</td>\n",
       "    </tr>\n",
       "    <tr>\n",
       "      <th>102</th>\n",
       "      <td>NaN</td>\n",
       "      <td>NaN</td>\n",
       "      <td>336609.0</td>\n",
       "      <td>2.098708</td>\n",
       "      <td>Fayetteville, NC Metropolita...</td>\n",
       "    </tr>\n",
       "    <tr>\n",
       "      <th>174</th>\n",
       "      <td>NaN</td>\n",
       "      <td>NaN</td>\n",
       "      <td>193117.0</td>\n",
       "      <td>2.109183</td>\n",
       "      <td>Laredo, TX Metropolitan Stat...</td>\n",
       "    </tr>\n",
       "  </tbody>\n",
       "</table>\n",
       "</div>"
      ],
      "text/plain": [
       "     MSA Code  Pop 2000     Total  \\\n",
       "151  NaN  NaN  150355.0  1.655049   \n",
       "43   NaN  NaN  231969.0  1.663095   \n",
       "45   NaN  NaN  335227.0  1.757551   \n",
       "62   NaN  NaN  203171.0  1.907964   \n",
       "329  NaN  NaN  222581.0  1.920533   \n",
       "154  NaN  NaN  181607.0  2.009250   \n",
       "162  NaN  NaN  330714.0  2.019096   \n",
       "125  NaN  NaN  152772.0  2.042636   \n",
       "102  NaN  NaN  336609.0  2.098708   \n",
       "174  NaN  NaN  193117.0  2.109183   \n",
       "\n",
       "                                              MSA_Name  \n",
       "151                    Jacksonville, NC Metropolita...  \n",
       "43                     Bremerton-Silverdale, WA Met...  \n",
       "45                     Brownsville-Harlingen, TX Me...  \n",
       "62                     Chico, CA Metropolitan Stati...  \n",
       "329                    Yakima, WA Metropolitan Stat...  \n",
       "154                    Johnson City, TN Metropolita...  \n",
       "162                    Killeen-Temple-Fort Hood, TX...  \n",
       "125                    Greenville, NC Metropolitan ...  \n",
       "102                    Fayetteville, NC Metropolita...  \n",
       "174                    Laredo, TX Metropolitan Stat...  "
      ]
     },
     "execution_count": 29,
     "metadata": {},
     "output_type": "execute_result"
    }
   ],
   "source": [
    "MSA_descend_red.head(10)"
   ]
  },
  {
   "cell_type": "markdown",
   "metadata": {},
   "source": [
    "## Step 2 : Ranking Cities"
   ]
  },
  {
   "cell_type": "code",
   "execution_count": 30,
   "metadata": {
    "collapsed": false
   },
   "outputs": [],
   "source": [
    "MSA_top = MSA_ascend_red\n",
    "MSA_top.columns = ['MSA Code', 'Code' ,'Population' ,'Total Carbon Emissions', 'Name of MSAs']"
   ]
  },
  {
   "cell_type": "code",
   "execution_count": 31,
   "metadata": {
    "collapsed": false
   },
   "outputs": [],
   "source": [
    "MSA_top = MSA_top[['MSA Code', 'Population' ,'Total Carbon Emissions', 'Name of MSAs']].head(10).reset_index()"
   ]
  },
  {
   "cell_type": "code",
   "execution_count": 32,
   "metadata": {
    "collapsed": false
   },
   "outputs": [],
   "source": [
    "# MSA_top  #tabla para imprimir ranking"
   ]
  },
  {
   "cell_type": "code",
   "execution_count": 33,
   "metadata": {
    "collapsed": true
   },
   "outputs": [],
   "source": [
    "MSA_least = MSA_descend_red\n",
    "MSA_least.columns = ['MSA Code', 'Code' ,'Population' ,'Total Carbon Emissions', 'Name of MSAs']"
   ]
  },
  {
   "cell_type": "code",
   "execution_count": 34,
   "metadata": {
    "collapsed": false
   },
   "outputs": [],
   "source": [
    "MSA_least = MSA_least[['MSA Code', 'Population' ,'Total Carbon Emissions', 'Name of MSAs']].head(10).reset_index()"
   ]
  },
  {
   "cell_type": "markdown",
   "metadata": {},
   "source": [
    "## Step 3: Histograms"
   ]
  },
  {
   "cell_type": "code",
   "execution_count": 35,
   "metadata": {
    "collapsed": false
   },
   "outputs": [
    {
     "name": "stderr",
     "output_type": "stream",
     "text": [
      "C:\\Users\\enrique\\Anaconda2\\lib\\site-packages\\ipykernel\\__main__.py:1: FutureWarning: sort(columns=....) is deprecated, use sort_values(by=.....)\n",
      "  if __name__ == '__main__':\n"
     ]
    }
   ],
   "source": [
    "MSA_top = MSA_top.sort('Total Carbon Emissions', ascending = False)\n",
    "\n",
    "y = list(MSA_top['Total Carbon Emissions'])\n",
    "x = list(MSA_top['Name of MSAs'].head(10))"
   ]
  },
  {
   "cell_type": "code",
   "execution_count": 37,
   "metadata": {
    "collapsed": false
   },
   "outputs": [
    {
     "data": {
      "image/png": "[encoded data removed]",
      "text/plain": [
       "<matplotlib.figure.Figure at 0xd011780>"
      ]
     },
     "metadata": {},
     "output_type": "display_data"
    }
   ],
   "source": [
    "plt.figure(figsize = (10,10))\n",
    "plt.barh(np.arange(0,10),y, color = 'IndianRed' )\n",
    "plt.title('Ranking of the most contaminated cities', size = 20)\n",
    "plt.ylabel('SMAs', size = 15)\n",
    "plt.xlabel('Carbon Emissions', size = 15)\n",
    "plt.yticks(np.arange(0,10),x)\n",
    "plt.show()"
   ]
  },
  {
   "cell_type": "code",
   "execution_count": 38,
   "metadata": {
    "collapsed": true
   },
   "outputs": [],
   "source": [
    "z = list(MSA_least['Name of MSAs'].head(10))"
   ]
  },
  {
   "cell_type": "code",
   "execution_count": 39,
   "metadata": {
    "collapsed": false
   },
   "outputs": [
    {
     "data": {
      "image/png": "[encoded data removed]",
      "text/plain": [
       "<matplotlib.figure.Figure at 0xcfd5f28>"
      ]
     },
     "metadata": {},
     "output_type": "display_data"
    }
   ],
   "source": [
    "plt.figure(figsize = (10,10))\n",
    "plt.barh(np.arange(0,10),MSA_least['Total Carbon Emissions'], color = 'darksage')\n",
    "\n",
    "plt.title('Ranking of the least contaminated cities', size = 20)\n",
    "plt.ylabel('SMAs', size = 15)\n",
    "plt.xlabel('Carbon Emissions', size = 15)\n",
    "plt.yticks(np.arange(0,10),z)\n",
    "\n",
    "plt.show()"
   ]
  },
  {
   "cell_type": "markdown",
   "metadata": {},
   "source": [
    "## Scatterplots"
   ]
  },
  {
   "cell_type": "code",
   "execution_count": 47,
   "metadata": {
    "collapsed": false
   },
   "outputs": [
    {
     "data": {
      "text/plain": [
       "Index([                                 u'MSA',\n",
       "                                       u'Code',\n",
       "                                   u'Pop 2000',\n",
       "                                      u'Total',\n",
       "                                 u'Commercial',\n",
       "                                 u'Industrial',\n",
       "                                u'Residential',\n",
       "                           u'Electricity Prod',\n",
       "                                     u'Onroad',\n",
       "                                     u'Cement',\n",
       "                                   u'Aircraft',\n",
       "                                    u'Unknown',\n",
       "                                    u'Nonroad',\n",
       "                                  u'Transport',\n",
       "                        u'Total area sq miles',\n",
       "       u'Density per square mile of land area',\n",
       "                                   u'MSA_Name',\n",
       "                                   u'MSA Code',\n",
       "                                       u'Area',\n",
       "                                    u'Density'],\n",
       "      dtype='object')"
      ]
     },
     "execution_count": 47,
     "metadata": {},
     "output_type": "execute_result"
    }
   ],
   "source": [
    "MSA_red_norm.columns"
   ]
  },
  {
   "cell_type": "code",
   "execution_count": null,
   "metadata": {
    "collapsed": false
   },
   "outputs": [],
   "source": [
    "MSA_red = MSA_red_norm[[ u'MSA',             u'Code',         u'Pop 2000',\n",
    "                  u'Total', u'MSA_Name', u'Total area sq miles',\n",
    "       u'Density per square mile of land area']]\n",
    "\n",
    "MSA_red.columns = [ u'MSA',             u'Code',         u'Pop_2000',\n",
    "                  u'Total', u'MSA_Name', 'Area', 'Density']"
   ]
  },
  {
   "cell_type": "code",
   "execution_count": null,
   "metadata": {
    "collapsed": false
   },
   "outputs": [],
   "source": [
    "#MSA_red.columns = [ u'MSA',             u'Code',         u'Pop_2000',\n",
    "                  #u'Total',       u'Commercial',       u'Industrial',\n",
    "            #u'Residential', u'Electricity Prod',           u'Onroad',\n",
    "                 #u'Cement',         u'Aircraft',          u'Unknown',\n",
    "                #u'Nonroad',        u'Transport',         u'MSA_Name']"
   ]
  },
  {
   "cell_type": "code",
   "execution_count": null,
   "metadata": {
    "collapsed": false
   },
   "outputs": [],
   "source": [
    "data = MSA_red.sort('Pop_2000')"
   ]
  },
  {
   "cell_type": "code",
   "execution_count": null,
   "metadata": {
    "collapsed": false,
    "scrolled": true
   },
   "outputs": [],
   "source": [
    "plt.figure(figsize= (10,10))\n",
    "plt.scatter(data['Pop_2000'],data.Total,c = 'IndianRed')\n",
    "plt.title('Carbon Emission vs Population', size = 20)\n",
    "plt.ylabel('Carbon Emissions per capita', size = 15)\n",
    "plt.xlabel('Population Total', size = 15)\n",
    "plt.show()"
   ]
  },
  {
   "cell_type": "markdown",
   "metadata": {},
   "source": [
    "Caption 1 : "
   ]
  },
  {
   "cell_type": "code",
   "execution_count": null,
   "metadata": {
    "collapsed": false
   },
   "outputs": [],
   "source": [
    "plt.figure(figsize= (10,10))\n",
    "data['Total_log'] = np.log10(data.Total)\n",
    "data['Pop_2000_log'] = np.log(data['Pop_2000'])\n",
    "plt.scatter(data['Pop_2000_log'],data['Total_log'],c = 'IndianRed')\n",
    "plt.title('Carbon Emission vs Population', size = 20)\n",
    "plt.ylabel('Carbon Emissions per capita', size = 15)\n",
    "plt.xlabel('Population Total', size = 15)\n",
    "plt.show()"
   ]
  },
  {
   "cell_type": "markdown",
   "metadata": {},
   "source": [
    "## Step : Line Fits"
   ]
  },
  {
   "cell_type": "code",
   "execution_count": null,
   "metadata": {
    "collapsed": false
   },
   "outputs": [],
   "source": [
    "data.columns"
   ]
  },
  {
   "cell_type": "code",
   "execution_count": null,
   "metadata": {
    "collapsed": false
   },
   "outputs": [],
   "source": [
    "lm1log = smf.ols(formula = 'Total_log ~ Pop_2000_log', data = data).fit()\n",
    "lm2log = smf.ols(formula = 'Total_log ~ 1 + Pop_2000_log', data = data).fit()\n",
    "lm3log = smf.ols(formula = 'Total_log ~ 1 + Pop_2000_log+ I(Pop_2000_log**2)', data = data).fit()"
   ]
  },
  {
   "cell_type": "code",
   "execution_count": null,
   "metadata": {
    "collapsed": false
   },
   "outputs": [],
   "source": [
    "plt.figure(figsize= (8,8))\n",
    "plt.scatter(data.Pop_2000_log,data.Total_log,c = 'IndianRed')\n",
    "\n",
    "plt.plot(data.Pop_2000_log, lm1log.predict(), 'DarkBlue', label='line fit') # revisAR SI LINE fit y la otra es la misma.\n",
    "#plt.plot(data.Pop_2000_log, lm2log.predict(), 'Green', label='1-degree poly')\n",
    "plt.plot(data.Pop_2000_log, lm3log.predict(), 'Gold', label='quadratic line')\n",
    "plt.legend()\n",
    "\n",
    "plt.title('Carbon Emission vs Population', size = 20)\n",
    "plt.ylabel('log(Carbon Emissions)', size = 15)\n",
    "plt.xlabel('log(Population Total)', size = 15)\n",
    "plt.legend()\n",
    "plt.show()"
   ]
  },
  {
   "cell_type": "code",
   "execution_count": null,
   "metadata": {
    "collapsed": false
   },
   "outputs": [],
   "source": [
    "print lm1log.params\n",
    "print lm3log.params\n",
    "print 'Correlation coefficient: %f' % (stats.pearsonr(data.Pop_2000_log,data.Total_log)[0])"
   ]
  },
  {
   "cell_type": "code",
   "execution_count": null,
   "metadata": {
    "collapsed": true
   },
   "outputs": [],
   "source": [
    "lm1 = smf.ols(formula = 'Total ~ Pop_2000', data = data).fit()\n",
    "lm2 = smf.ols(formula = 'Total ~ 1 + Pop_2000', data = data).fit()\n",
    "lm3 = smf.ols(formula = 'Total ~ 1 + Pop_2000+ I(Pop_2000**2)', data = data).fit()"
   ]
  },
  {
   "cell_type": "code",
   "execution_count": null,
   "metadata": {
    "collapsed": false
   },
   "outputs": [],
   "source": [
    "y = lm3.params[0] + lm3.params[1]*x + lm3.params[2]*x**2"
   ]
  },
  {
   "cell_type": "code",
   "execution_count": null,
   "metadata": {
    "collapsed": false
   },
   "outputs": [],
   "source": [
    "fmin(f,13.5)"
   ]
  },
  {
   "cell_type": "code",
   "execution_count": null,
   "metadata": {
    "collapsed": false
   },
   "outputs": [],
   "source": [
    "np.exp(13.5)"
   ]
  },
  {
   "cell_type": "code",
   "execution_count": null,
   "metadata": {
    "collapsed": false
   },
   "outputs": [],
   "source": [
    "plt.figure(figsize= (8,8))\n",
    "plt.scatter(data.Pop_2000,data.Total,c = 'IndianRed')\n",
    "\n",
    "plt.plot(data.Pop_2000, lm1.predict(), 'DarkBlue', label='line fit') # revisAR SI LINE fit y la otra es la misma.\n",
    "plt.plot(data.Pop_2000, lm2.predict(), 'Green', label='1-degree poly')\n",
    "plt.plot(data.Pop_2000, lm3.predict(), 'Gold', label='quadratic line')\n",
    "\n",
    "\n",
    "plt.title('Carbon Emission vs Population', size = 20)\n",
    "plt.ylabel('Carbon Emissions', size = 15)\n",
    "plt.xlabel('Population Total', size = 15)\n",
    "plt.show()"
   ]
  },
  {
   "cell_type": "code",
   "execution_count": null,
   "metadata": {
    "collapsed": false
   },
   "outputs": [],
   "source": [
    "print lm1.params\n",
    "print lm3.params\n",
    "print 'Correlation coefficient: %f' % (stats.pearsonr(data.Pop_2000,data.Total)[0])"
   ]
  },
  {
   "cell_type": "code",
   "execution_count": null,
   "metadata": {
    "collapsed": true
   },
   "outputs": [],
   "source": [
    "data3 = data[data.Total<40]\n",
    "data3 = data[data.Pop_2000<3000000]\n",
    "data3 = data[data.Pop_2000>100]"
   ]
  },
  {
   "cell_type": "code",
   "execution_count": null,
   "metadata": {
    "collapsed": true
   },
   "outputs": [],
   "source": [
    "lm13 = smf.ols(formula = 'Total ~ Pop_2000', data = data3).fit()\n",
    "lm23 = smf.ols(formula = 'Total ~ 1 + Pop_2000', data = data3).fit()\n",
    "lm33 = smf.ols(formula = 'Total ~ 1 + Pop_2000+ I(Pop_2000**2)', data = data3).fit()"
   ]
  },
  {
   "cell_type": "code",
   "execution_count": null,
   "metadata": {
    "collapsed": false
   },
   "outputs": [],
   "source": [
    "print lm13.params\n",
    "print lm33.params\n",
    "print 'Correlation coefficient: %f' % (stats.pearsonr(data3.Pop_2000,data3.Total)[0])"
   ]
  },
  {
   "cell_type": "code",
   "execution_count": null,
   "metadata": {
    "collapsed": false
   },
   "outputs": [],
   "source": [
    "plt.figure(figsize= (8,8))\n",
    "plt.scatter(data.Pop_2000,data.Total,c = 'IndianRed')\n",
    "\n",
    "plt.plot(data3.Pop_2000, lm1.predict(), 'DarkBlue', label='line fit') # revisAR SI LINE fit y la otra es la misma.\n",
    "#plt.plot(data3.Pop_2000, lm2.predict(), 'Green', label='1-degree poly')\n",
    "plt.plot(data3.Pop_2000, lm3.predict(), 'Gold', label='quadratic line')\n",
    "plt.legend()\n",
    "\n",
    "\n",
    "plt.title('Carbon Emission vs Population', size = 20)\n",
    "plt.ylabel('Carbon Emissions', size = 15)\n",
    "plt.xlabel('Population Total', size = 15)\n",
    "plt.show()"
   ]
  },
  {
   "cell_type": "code",
   "execution_count": null,
   "metadata": {
    "collapsed": false
   },
   "outputs": [],
   "source": [
    "print lm13.params\n",
    "print lm33.params\n",
    "print 'Correlation coefficient: %f' % (stats.pearsonr(data.Pop_2000,data.Total)[0])"
   ]
  },
  {
   "cell_type": "code",
   "execution_count": null,
   "metadata": {
    "collapsed": false
   },
   "outputs": [],
   "source": [
    "lm33.params[0]\n",
    "lm33.params[1]\n",
    "lm33.params[1]"
   ]
  },
  {
   "cell_type": "code",
   "execution_count": null,
   "metadata": {
    "collapsed": true
   },
   "outputs": [],
   "source": [
    "x = 2000000"
   ]
  },
  {
   "cell_type": "code",
   "execution_count": null,
   "metadata": {
    "collapsed": false
   },
   "outputs": [],
   "source": [
    "y = lm33.params[0] + lm33.params[1]*x + lm33.params[2]*x**2\n",
    "y"
   ]
  },
  {
   "cell_type": "code",
   "execution_count": null,
   "metadata": {
    "collapsed": true
   },
   "outputs": [],
   "source": [
    "from scipy.optimize import fmin\n",
    "import math"
   ]
  },
  {
   "cell_type": "code",
   "execution_count": null,
   "metadata": {
    "collapsed": true
   },
   "outputs": [],
   "source": [
    "def f(x):\n",
    "    y = lm33.params[0] + lm33.params[1]*x + lm33.params[2]*x**2"
   ]
  },
  {
   "cell_type": "code",
   "execution_count": null,
   "metadata": {
    "collapsed": false
   },
   "outputs": [],
   "source": [
    "fmin(f,2000000)"
   ]
  },
  {
   "cell_type": "code",
   "execution_count": null,
   "metadata": {
    "collapsed": true
   },
   "outputs": [],
   "source": [
    "new_data = data"
   ]
  },
  {
   "cell_type": "code",
   "execution_count": null,
   "metadata": {
    "collapsed": false
   },
   "outputs": [],
   "source": [
    "#new_data = new_data[new_data.Pop_2000<2000000]\n",
    "#new_data = new_data[new_data.Total<200]"
   ]
  },
  {
   "cell_type": "code",
   "execution_count": null,
   "metadata": {
    "collapsed": false
   },
   "outputs": [],
   "source": [
    "lm4 = smf.ols(formula = 'Total ~ Pop_2000', data = new_data).fit()\n",
    "lm5 = smf.ols(formula = 'Total ~ 1 + Pop_2000', data = new_data).fit()\n",
    "lm6 = smf.ols(formula = 'Total ~ 1 + Pop_2000+ I(Pop_2000**2)', data = new_data).fit()"
   ]
  },
  {
   "cell_type": "code",
   "execution_count": null,
   "metadata": {
    "collapsed": false
   },
   "outputs": [],
   "source": [
    "print lm4.params\n",
    "print lm6.params\n",
    "print 'Correlation coefficient: %f' % (stats.pearsonr(new_data.Pop_2000,new_data.Total)[0])"
   ]
  },
  {
   "cell_type": "code",
   "execution_count": null,
   "metadata": {
    "collapsed": false
   },
   "outputs": [],
   "source": [
    "plt.figure(figsize= (8,8))\n",
    "plt.scatter(new_data.Pop_2000,new_data.Total,c = 'IndianRed')\n",
    "\n",
    "plt.plot(new_data.Pop_2000, lm4.predict(), 'DarkBlue', label='line fit') # revisAR SI LINE fit y la otra es la misma.\n",
    "#plt.plot(new_data.Pop_2000, lm5.predict(), 'Green', label='1-degree poly')\n",
    "plt.plot(new_data.Pop_2000, lm6.predict(), 'Gold', label='quadratic line')\n",
    "plt.legend()\n",
    "\n",
    "\n",
    "plt.title('Carbon Emission vs Population', size = 20)\n",
    "plt.ylabel('Carbon Emissions', size = 15)\n",
    "plt.xlabel('Population Total', size = 15)\n",
    "plt.show()"
   ]
  },
  {
   "cell_type": "code",
   "execution_count": null,
   "metadata": {
    "collapsed": false
   },
   "outputs": [],
   "source": [
    "data2 = MSA_red_norm.sort('Density')"
   ]
  },
  {
   "cell_type": "code",
   "execution_count": null,
   "metadata": {
    "collapsed": false
   },
   "outputs": [],
   "source": [
    "data2['Total_log'] = np.log10(data2.Total)\n",
    "data2['Density_log'] = np.log(data2['Density'])"
   ]
  },
  {
   "cell_type": "code",
   "execution_count": null,
   "metadata": {
    "collapsed": true
   },
   "outputs": [],
   "source": [
    "lm10log = smf.ols(formula = 'Total_log ~ Density_log', data = data2).fit()\n",
    "lm20log = smf.ols(formula = 'Total_log ~ 1 + Density_log', data = data2).fit()\n",
    "lm30log = smf.ols(formula = 'Total_log ~ 1 + Density_log+ I(Density_log**2)', data = data2).fit()"
   ]
  },
  {
   "cell_type": "code",
   "execution_count": null,
   "metadata": {
    "collapsed": false,
    "scrolled": true
   },
   "outputs": [],
   "source": [
    "plt.figure(figsize= (8,8))\n",
    "plt.scatter(data2.Density_log,data2.Total_log,c = 'IndianRed')\n",
    "\n",
    "plt.plot(data2.Density_log, lm10log.predict(), 'DarkBlue', label='line fit') # revisAR SI LINE fit y la otra es la misma.\n",
    "#plt.plot(data2.Density_log, lm20log.predict(), 'Green', label='1-degree poly')\n",
    "plt.plot(data2.Density_log, lm30log.predict(), 'Gold', label='quadratic line')\n",
    "\n",
    "plt.title('Carbon Emission vs Density', size = 20)\n",
    "plt.ylabel('log(Carbon Emissions per capita)  (ton/pers)', size = 15)\n",
    "plt.xlabel('log(Density) (pop/mil2)', size = 15)\n",
    "plt.legend()\n",
    "plt.show() "
   ]
  },
  {
   "cell_type": "code",
   "execution_count": null,
   "metadata": {
    "collapsed": false
   },
   "outputs": [],
   "source": [
    "x =5"
   ]
  },
  {
   "cell_type": "code",
   "execution_count": null,
   "metadata": {
    "collapsed": false
   },
   "outputs": [],
   "source": [
    "Y = 0.706145 +0.002950* np.log(x) -0.000745 *np.log(x)**2\n",
    "Y"
   ]
  },
  {
   "cell_type": "code",
   "execution_count": null,
   "metadata": {
    "collapsed": false
   },
   "outputs": [],
   "source": [
    "print lm10log.params\n",
    "print lm30log.params\n",
    "print 'Correlation coefficient: %f' % (stats.pearsonr(data2.Density,data2.Total)[0])"
   ]
  },
  {
   "cell_type": "code",
   "execution_count": null,
   "metadata": {
    "collapsed": true
   },
   "outputs": [],
   "source": [
    "new_data2 = data2"
   ]
  },
  {
   "cell_type": "code",
   "execution_count": null,
   "metadata": {
    "collapsed": true
   },
   "outputs": [],
   "source": [
    "lm40 = smf.ols(formula = 'Total ~ Density', data = new_data2).fit()\n",
    "lm50 = smf.ols(formula = 'Total ~ 1 + Density', data = new_data2).fit()\n",
    "lm60 = smf.ols(formula = 'Total ~ 1 + Density+ I(Density**2)', data = new_data2).fit()"
   ]
  },
  {
   "cell_type": "code",
   "execution_count": null,
   "metadata": {
    "collapsed": false
   },
   "outputs": [],
   "source": [
    "plt.figure(figsize= (8,8))\n",
    "plt.scatter(new_data2.Density,new_data2.Total,c = 'IndianRed')\n",
    "\n",
    "plt.plot(new_data2.Density, lm40.predict(), 'DarkBlue', label='line fit') # revisAR SI LINE fit y la otra es la misma.\n",
    "#plt.plot(new_data2.Density, lm50.predict(), 'Green', label='1-degree poly')\n",
    "plt.plot(new_data2.Density, lm60.predict(), 'Gold', label='quadratic line')\n",
    "\n",
    "\n",
    "plt.title('Carbon Emission vs Density', size = 20)\n",
    "plt.ylabel('Carbon Emissions(ton/pers)', size = 15)\n",
    "plt.xlabel('Density(population/mil2)', size = 15)\n",
    "plt.legend()\n",
    "plt.show()"
   ]
  },
  {
   "cell_type": "code",
   "execution_count": null,
   "metadata": {
    "collapsed": false
   },
   "outputs": [],
   "source": [
    "print lm40.params\n",
    "print lm60.params\n",
    "print 'Correlation coefficient: %f' % (stats.pearsonr(new_data2.Density,new_data2.Total)[0])"
   ]
  },
  {
   "cell_type": "raw",
   "metadata": {},
   "source": []
  }
 ],
 "metadata": {
  "anaconda-cloud": {},
  "kernelspec": {
   "display_name": "Python [conda root]",
   "language": "python",
   "name": "conda-root-py"
  },
  "language_info": {
   "codemirror_mode": {
    "name": "ipython",
    "version": 2
   },
   "file_extension": ".py",
   "mimetype": "text/x-python",
   "name": "python",
   "nbconvert_exporter": "python",
   "pygments_lexer": "ipython2",
   "version": "2.7.12"
  }
 },
 "nbformat": 4,
 "nbformat_minor": 1
}
